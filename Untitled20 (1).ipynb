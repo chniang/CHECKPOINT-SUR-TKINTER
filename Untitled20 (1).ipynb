{
 "cells": [
  {
   "cell_type": "code",
   "execution_count": null,
   "id": "3f547b47-4494-4ee5-8d29-bf9df8fba355",
   "metadata": {},
   "outputs": [],
   "source": [
    "import tkinter as tk\n",
    "\n",
    "def fahrenheit_to_celsius():\n",
    "    try:\n",
    "        fahrenheit = float(ent_temperature.get())\n",
    "        celsius = (fahrenheit - 32) * 5 / 9\n",
    "        lbl_result[\"text\"] = f\"{fahrenheit}°F = {celsius:.2f}°C\"\n",
    "    except ValueError:\n",
    "        lbl_result[\"text\"] = \"Entrée invalide\"\n",
    "\n",
    "window = tk.Tk()\n",
    "window.title(\"Convertisseur de Température\")\n",
    "window.resizable(width=False, height=False)\n",
    "\n",
    "frm_entry = tk.Frame(master=window)\n",
    "frm_entry.grid(row=0, column=0, padx=10, pady=10)\n",
    "\n",
    "# Widget d'entrée pour la température en Fahrenheit\n",
    "ent_temperature = tk.Entry(master=frm_entry, width=10)\n",
    "ent_temperature.grid(row=0, column=0, sticky=\"e\")\n",
    "\n",
    "# Label pour afficher le symbole de degré et le texte \"F\"\n",
    "lbl_temp = tk.Label(master=frm_entry, text=\"\\N{DEGREE FAHRENHEIT}\")\n",
    "lbl_temp.grid(row=0, column=1, sticky=\"w\")\n",
    "\n",
    "# Bouton pour initier le processus de conversion\n",
    "btn_convert = tk.Button(master=window, text=\"\\N{RIGHTWARDS BLACK ARROW}\", command=fahrenheit_to_celsius)\n",
    "btn_convert.grid(row=0, column=1, pady=10)\n",
    "\n",
    "# Label pour afficher le résultat de la conversion en Celsius\n",
    "lbl_result = tk.Label(master=window, text=\"\\N{DEGREE CELSIUS}\")\n",
    "lbl_result.grid(row=0, column=2, padx=10)\n",
    "\n",
    "window.mainloop()\n"
   ]
  }
 ],
 "metadata": {
  "kernelspec": {
   "display_name": "Python 3 (ipykernel)",
   "language": "python",
   "name": "python3"
  },
  "language_info": {
   "codemirror_mode": {
    "name": "ipython",
    "version": 3
   },
   "file_extension": ".py",
   "mimetype": "text/x-python",
   "name": "python",
   "nbconvert_exporter": "python",
   "pygments_lexer": "ipython3",
   "version": "3.12.4"
  }
 },
 "nbformat": 4,
 "nbformat_minor": 5
}
